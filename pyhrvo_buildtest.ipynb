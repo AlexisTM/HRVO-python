{
 "metadata": {
  "name": "",
  "signature": "sha256:e01a08241351cd5f45ef4fa968fdbcc212f7fa3964b478664f6db9dec53d31a4"
 },
 "nbformat": 3,
 "nbformat_minor": 0,
 "worksheets": [
  {
   "cells": [
    {
     "cell_type": "markdown",
     "metadata": {},
     "source": [
      "# PyHRVO\n",
      "\n",
      "help from : \n",
      "\n",
      "\n",
      "exposing classes:\n",
      "\n",
      "http://www.boost.org/doc/libs/1_55_0/libs/python/doc/tutorial/doc/html/python/exposing.html\n",
      "\n",
      "clang as compiler\n",
      "http://stackoverflow.com/questions/16737260/how-to-tell-distutils-to-use-gcc\n"
     ]
    },
    {
     "cell_type": "code",
     "collapsed": false,
     "input": [
      "ls"
     ],
     "language": "python",
     "metadata": {},
     "outputs": [
      {
       "output_type": "stream",
       "stream": "stdout",
       "text": [
        "05_Animations.ipynb      CMakeLists.txt     \u001b[0m\u001b[01;34mexamples\u001b[0m/               README.md\r\n",
        "animated_scatter.ipynb   COPYING            pyhrvo_buildtest.ipynb  setup.py\r\n",
        "boost_python_test.ipynb  CTestConfig.cmake  \u001b[01;32mpyhrvo.so\u001b[0m*              \u001b[01;34msrc\u001b[0m/\r\n",
        "\u001b[01;34mbuild\u001b[0m/                   \u001b[01;34mdoc\u001b[0m/               \u001b[01;34mpyste\u001b[0m/                  Untitled0.ipynb\r\n"
       ]
      }
     ],
     "prompt_number": 1
    },
    {
     "cell_type": "markdown",
     "metadata": {},
     "source": [
      "# Clean"
     ]
    },
    {
     "cell_type": "code",
     "collapsed": false,
     "input": [
      "%%bash\n",
      "rm -r build\n",
      "rm *.so"
     ],
     "language": "python",
     "metadata": {},
     "outputs": [],
     "prompt_number": 4
    },
    {
     "cell_type": "markdown",
     "metadata": {},
     "source": [
      "## Building\n",
      "build but use clang for better debug messages."
     ]
    },
    {
     "cell_type": "code",
     "collapsed": false,
     "input": [
      "%%bash\n",
      "CC=/usr/bin/clang CXX=/usr/bin/clang++ python setup.py build"
     ],
     "language": "python",
     "metadata": {},
     "outputs": [
      {
       "output_type": "stream",
       "stream": "stdout",
       "text": [
        "running build\n",
        "running build_ext\n",
        "building 'pyhrvo' extension\n",
        "creating build\n",
        "creating build/temp.linux-x86_64-2.7\n",
        "creating build/temp.linux-x86_64-2.7/src\n",
        "/usr/bin/clang -fno-strict-aliasing -DNDEBUG -g -fwrapv -O2 -Wall -Wstrict-prototypes -fPIC -I/usr/include/python2.7 -c src/KdTree.cpp -o build/temp.linux-x86_64-2.7/src/KdTree.o\n",
        "/usr/bin/clang -fno-strict-aliasing -DNDEBUG -g -fwrapv -O2 -Wall -Wstrict-prototypes -fPIC -I/usr/include/python2.7 -c src/pyhrvo_module.cpp -o build/temp.linux-x86_64-2.7/src/pyhrvo_module.o\n",
        "/usr/bin/clang -fno-strict-aliasing -DNDEBUG -g -fwrapv -O2 -Wall -Wstrict-prototypes -fPIC -I/usr/include/python2.7 -c src/Goal.cpp -o build/temp.linux-x86_64-2.7/src/Goal.o\n",
        "/usr/bin/clang -fno-strict-aliasing -DNDEBUG -g -fwrapv -O2 -Wall -Wstrict-prototypes -fPIC -I/usr/include/python2.7 -c src/Vector2.cpp -o build/temp.linux-x86_64-2.7/src/Vector2.o\n",
        "/usr/bin/clang -fno-strict-aliasing -DNDEBUG -g -fwrapv -O2 -Wall -Wstrict-prototypes -fPIC -I/usr/include/python2.7 -c src/Agent.cpp -o build/temp.linux-x86_64-2.7/src/Agent.o\n",
        "/usr/bin/clang -fno-strict-aliasing -DNDEBUG -g -fwrapv -O2 -Wall -Wstrict-prototypes -fPIC -I/usr/include/python2.7 -c src/Simulator.cpp -o build/temp.linux-x86_64-2.7/src/Simulator.o\n",
        "creating build/lib.linux-x86_64-2.7\n",
        "/usr/bin/clang++ -pthread -shared -Wl,-O1 -Wl,-Bsymbolic-functions -Wl,-Bsymbolic-functions -Wl,-z,relro build/temp.linux-x86_64-2.7/src/KdTree.o build/temp.linux-x86_64-2.7/src/pyhrvo_module.o build/temp.linux-x86_64-2.7/src/Goal.o build/temp.linux-x86_64-2.7/src/Vector2.o build/temp.linux-x86_64-2.7/src/Agent.o build/temp.linux-x86_64-2.7/src/Simulator.o -lboost_python -o build/lib.linux-x86_64-2.7/pyhrvo.so\n"
       ]
      }
     ],
     "prompt_number": 5
    },
    {
     "cell_type": "markdown",
     "metadata": {},
     "source": [
      "# Test"
     ]
    },
    {
     "cell_type": "code",
     "collapsed": false,
     "input": [
      "cp build/lib.linux-x86_64-2.7/pyhrvo.so ."
     ],
     "language": "python",
     "metadata": {},
     "outputs": [],
     "prompt_number": 6
    },
    {
     "cell_type": "code",
     "collapsed": false,
     "input": [
      "import pyhrvo"
     ],
     "language": "python",
     "metadata": {},
     "outputs": [],
     "prompt_number": 7
    },
    {
     "cell_type": "code",
     "collapsed": false,
     "input": [
      "v=pyhrvo.Vector2(3,456)"
     ],
     "language": "python",
     "metadata": {},
     "outputs": [],
     "prompt_number": 8
    },
    {
     "cell_type": "code",
     "collapsed": false,
     "input": [
      "v.getX()"
     ],
     "language": "python",
     "metadata": {},
     "outputs": [
      {
       "metadata": {},
       "output_type": "pyout",
       "prompt_number": 9,
       "text": [
        "3.0"
       ]
      }
     ],
     "prompt_number": 9
    },
    {
     "cell_type": "code",
     "collapsed": false,
     "input": [
      "v.getY()"
     ],
     "language": "python",
     "metadata": {},
     "outputs": [
      {
       "metadata": {},
       "output_type": "pyout",
       "prompt_number": 10,
       "text": [
        "456.0"
       ]
      }
     ],
     "prompt_number": 10
    },
    {
     "cell_type": "code",
     "collapsed": false,
     "input": [
      "sim = pyhrvo.Simulator()"
     ],
     "language": "python",
     "metadata": {},
     "outputs": [],
     "prompt_number": 11
    },
    {
     "cell_type": "code",
     "collapsed": false,
     "input": [
      "sim.setTimeStep(.25)"
     ],
     "language": "python",
     "metadata": {},
     "outputs": [],
     "prompt_number": 12
    },
    {
     "cell_type": "code",
     "collapsed": false,
     "input": [
      "import sys"
     ],
     "language": "python",
     "metadata": {},
     "outputs": [],
     "prompt_number": 14
    },
    {
     "cell_type": "code",
     "collapsed": false,
     "input": [
      "sim.setAgentDefaults(\n",
      "    15.0,\n",
      "    long(10),\n",
      "    1.5,\n",
      "    1.5,\n",
      "    1.0,\n",
      "    2.0,\n",
      "    0.0,\n",
      "    sys.float_info.max,\n",
      "    pyhrvo.Vector2(0,0),\n",
      "    0.0)"
     ],
     "language": "python",
     "metadata": {},
     "outputs": [],
     "prompt_number": 15
    },
    {
     "cell_type": "code",
     "collapsed": false,
     "input": [
      "import math"
     ],
     "language": "python",
     "metadata": {},
     "outputs": [],
     "prompt_number": 16
    },
    {
     "cell_type": "code",
     "collapsed": false,
     "input": [
      "for i in range(250):\n",
      "    x=math.cos(.004*i*math.pi*2) * 200.0\n",
      "    y=math.sin(.004*i*math.pi*2) * 200.0\n",
      "    pos = pyhrvo.Vector2(x,y)\n",
      "    negpos=pyhrvo.Vector2(-x,-y)\n",
      "    sim.addAgent0(pos, sim.addGoal(negpos))\n",
      "    print x, y"
     ],
     "language": "python",
     "metadata": {},
     "outputs": [
      {
       "output_type": "stream",
       "stream": "stdout",
       "text": [
        "200.0 0.0\n",
        "199.936837857 5.02601908867\n",
        "199.747391321 10.048863636\n",
        "199.431780052 15.0653611056\n",
        "198.990203396 20.0723429702\n",
        "198.422940263 25.0666467129\n",
        "197.730348948 30.0451178242\n",
        "196.912866906 35.0046117951\n",
        "195.971010477 39.9419961029\n",
        "194.905374557 44.8541521899\n",
        "193.716632226 49.737977433\n",
        "192.405534317 54.5903871035\n",
        "190.972908949 59.4083163154\n",
        "189.419660999 64.1887219614\n",
        "187.746771531 68.9285846349\n",
        "185.955297178 73.6249105369\n",
        "184.046369473 78.2747333674\n",
        "182.021194137 82.8751161987\n",
        "179.881050313 87.4231533302\n",
        "177.627289763 91.9159721243\n",
        "175.261336009 96.3507348203\n",
        "172.784683439 100.724640327\n",
        "170.198896359 105.034925992\n",
        "167.505608008 109.278869347\n",
        "164.706519526 113.453789825\n",
        "161.803398875 117.557050458\n",
        "158.79807973 121.586059539\n",
        "155.692460313 125.538272258\n",
        "152.488502202 129.411192314\n",
        "149.188229085 133.202373487\n",
        "145.793725484 136.909421186\n",
        "142.307135442 140.52999396\n",
        "138.730661163 144.061804978\n",
        "135.066561624 147.502623472\n",
        "131.317151151 150.850276147\n",
        "127.48479795 154.102648555\n",
        "123.571922618 157.257686427\n",
        "119.580996612 160.313396974\n",
        "115.514540684 163.267850143\n",
        "111.375123298 166.119179839\n",
        "107.165358996 168.8655851\n",
        "102.887906756 171.505331239\n",
        "98.5454683097 174.036750934\n",
        "94.1407864331 176.458245287\n",
        "89.676643218 178.76828483\n",
        "85.155858313 180.965410493\n",
        "80.5812871427 183.048234524\n",
        "75.9558191044 185.015441367\n",
        "71.2823757427 186.865788491\n",
        "66.5639089046 188.598107179\n",
        "61.803398875 190.211303259\n",
        "57.003852494 191.704357803\n",
        "52.168301258 193.076327767\n",
        "47.2997994047 194.326346583\n",
        "42.4014219844 195.453624714\n",
        "37.4762629171 196.457450146\n",
        "32.527433039 197.337188842\n",
        "27.5580581369 198.092285139\n",
        "22.5712769747 198.722262104\n",
        "17.5702393101 199.226721829\n",
        "12.5581039059 199.605345686\n",
        "7.53803653399 199.857894528\n",
        "2.51320797667 199.984208841\n",
        "-2.51320797667 199.984208841\n",
        "-7.53803653399 199.857894528\n",
        "-12.5581039059 199.605345686\n",
        "-17.5702393101 199.226721829\n",
        "-22.5712769747 198.722262104\n",
        "-27.5580581369 198.092285139\n",
        "-32.527433039 197.337188842\n",
        "-37.4762629171 196.457450146\n",
        "-42.4014219844 195.453624714\n",
        "-47.2997994047 194.326346583\n",
        "-52.168301258 193.076327767\n",
        "-57.003852494 191.704357803\n",
        "-61.803398875 190.211303259\n",
        "-66.5639089046 188.598107179\n",
        "-71.2823757427 186.865788491\n",
        "-75.9558191044 185.015441367\n",
        "-80.5812871427 183.048234524\n",
        "-85.155858313 180.965410493\n",
        "-89.676643218 178.76828483\n",
        "-94.1407864331 176.458245287\n",
        "-98.5454683097 174.036750934\n",
        "-102.887906756 171.505331239\n",
        "-107.165358996 168.8655851\n",
        "-111.375123298 166.119179839\n",
        "-115.514540684 163.267850143\n",
        "-119.580996612 160.313396974\n",
        "-123.571922618 157.257686427\n",
        "-127.48479795 154.102648555\n",
        "-131.317151151 150.850276147\n",
        "-135.066561624 147.502623472\n",
        "-138.730661163 144.061804978\n",
        "-142.307135442 140.52999396\n",
        "-145.793725484 136.909421186\n",
        "-149.188229085 133.202373487\n",
        "-152.488502202 129.411192314\n",
        "-155.692460313 125.538272258\n",
        "-158.79807973 121.586059539\n",
        "-161.803398875 117.557050458\n",
        "-164.706519526 113.453789825\n",
        "-167.505608008 109.278869347\n",
        "-170.198896359 105.034925992\n",
        "-172.784683439 100.724640327\n",
        "-175.261336009 96.3507348203\n",
        "-177.627289763 91.9159721243\n",
        "-179.881050313 87.4231533302\n",
        "-182.021194137 82.8751161987\n",
        "-184.046369473 78.2747333674\n",
        "-185.955297178 73.6249105369\n",
        "-187.746771531 68.9285846349\n",
        "-189.419660999 64.1887219614\n",
        "-190.972908949 59.4083163154\n",
        "-192.405534317 54.5903871035\n",
        "-193.716632226 49.737977433\n",
        "-194.905374557 44.8541521899\n",
        "-195.971010477 39.9419961029\n",
        "-196.912866906 35.0046117951\n",
        "-197.730348948 30.0451178242\n",
        "-198.422940263 25.0666467129\n",
        "-198.990203396 20.0723429702\n",
        "-199.431780052 15.0653611056\n",
        "-199.747391321 10.048863636\n",
        "-199.936837857 5.02601908867\n",
        "-200.0 2.44929359829e-14\n",
        "-199.936837857 -5.02601908867\n",
        "-199.747391321 -10.048863636\n",
        "-199.431780052 -15.0653611056\n",
        "-198.990203396 -20.0723429702\n",
        "-198.422940263 -25.0666467129\n",
        "-197.730348948 -30.0451178242\n",
        "-196.912866906 -35.0046117951\n",
        "-195.971010477 -39.9419961029\n",
        "-194.905374557 -44.8541521899\n",
        "-193.716632226 -49.737977433\n",
        "-192.405534317 -54.5903871035\n",
        "-190.972908949 -59.4083163154\n",
        "-189.419660999 -64.1887219614\n",
        "-187.746771531 -68.9285846349\n",
        "-185.955297178 -73.6249105369\n",
        "-184.046369473 -78.2747333674\n",
        "-182.021194137 -82.8751161987\n",
        "-179.881050313 -87.4231533302\n",
        "-177.627289763 -91.9159721243\n",
        "-175.261336009 -96.3507348203\n",
        "-172.784683439 -100.724640327\n",
        "-170.198896359 -105.034925992\n",
        "-167.505608008 -109.278869347\n",
        "-164.706519526 -113.453789825\n",
        "-161.803398875 -117.557050458\n",
        "-158.79807973 -121.586059539\n",
        "-155.692460313 -125.538272258\n",
        "-152.488502202 -129.411192314\n",
        "-149.188229085 -133.202373487\n",
        "-145.793725484 -136.909421186\n",
        "-142.307135442 -140.52999396\n",
        "-138.730661163 -144.061804978\n",
        "-135.066561624 -147.502623472\n",
        "-131.317151151 -150.850276147\n",
        "-127.48479795 -154.102648555\n",
        "-123.571922618 -157.257686427\n",
        "-119.580996612 -160.313396974\n",
        "-115.514540684 -163.267850143\n",
        "-111.375123298 -166.119179839\n",
        "-107.165358996 -168.8655851\n",
        "-102.887906756 -171.505331239\n",
        "-98.5454683097 -174.036750934\n",
        "-94.1407864331 -176.458245287\n",
        "-89.676643218 -178.76828483\n",
        "-85.155858313 -180.965410493\n",
        "-80.5812871427 -183.048234524\n",
        "-75.9558191044 -185.015441367\n",
        "-71.2823757427 -186.865788491\n",
        "-66.5639089046 -188.598107179\n",
        "-61.803398875 -190.211303259\n",
        "-57.003852494 -191.704357803\n",
        "-52.168301258 -193.076327767\n",
        "-47.2997994047 -194.326346583\n",
        "-42.4014219844 -195.453624714\n",
        "-37.4762629171 -196.457450146\n",
        "-32.527433039 -197.337188842\n",
        "-27.5580581369 -198.092285139\n",
        "-22.5712769747 -198.722262104\n",
        "-17.5702393101 -199.226721829\n",
        "-12.5581039059 -199.605345686\n",
        "-7.53803653399 -199.857894528\n",
        "-2.51320797667 -199.984208841\n",
        "2.51320797667 -199.984208841\n",
        "7.53803653399 -199.857894528\n",
        "12.5581039059 -199.605345686\n",
        "17.5702393101 -199.226721829\n",
        "22.5712769747 -198.722262104\n",
        "27.5580581369 -198.092285139\n",
        "32.527433039 -197.337188842\n",
        "37.4762629171 -196.457450146\n",
        "42.4014219844 -195.453624714\n",
        "47.2997994047 -194.326346583\n",
        "52.168301258 -193.076327767\n",
        "57.003852494 -191.704357803\n",
        "61.803398875 -190.211303259\n",
        "66.5639089046 -188.598107179\n",
        "71.2823757427 -186.865788491\n",
        "75.9558191044 -185.015441367\n",
        "80.5812871427 -183.048234524\n",
        "85.155858313 -180.965410493\n",
        "89.676643218 -178.76828483\n",
        "94.1407864331 -176.458245287\n",
        "98.5454683097 -174.036750934\n",
        "102.887906756 -171.505331239\n",
        "107.165358996 -168.8655851\n",
        "111.375123298 -166.119179839\n",
        "115.514540684 -163.267850143\n",
        "119.580996612 -160.313396974\n",
        "123.571922618 -157.257686427\n",
        "127.48479795 -154.102648555\n",
        "131.317151151 -150.850276147\n",
        "135.066561624 -147.502623472\n",
        "138.730661163 -144.061804978\n",
        "142.307135442 -140.52999396\n",
        "145.793725484 -136.909421186\n",
        "149.188229085 -133.202373487\n",
        "152.488502202 -129.411192314\n",
        "155.692460313 -125.538272258\n",
        "158.79807973 -121.586059539\n",
        "161.803398875 -117.557050458\n",
        "164.706519526 -113.453789825\n",
        "167.505608008 -109.278869347\n",
        "170.198896359 -105.034925992\n",
        "172.784683439 -100.724640327\n",
        "175.261336009 -96.3507348203\n",
        "177.627289763 -91.9159721243\n",
        "179.881050313 -87.4231533302\n",
        "182.021194137 -82.8751161987\n",
        "184.046369473 -78.2747333674\n",
        "185.955297178 -73.6249105369\n",
        "187.746771531 -68.9285846349\n",
        "189.419660999 -64.1887219614\n",
        "190.972908949 -59.4083163154\n",
        "192.405534317 -54.5903871035\n",
        "193.716632226 -49.737977433\n",
        "194.905374557 -44.8541521899\n",
        "195.971010477 -39.9419961029\n",
        "196.912866906 -35.0046117951\n",
        "197.730348948 -30.0451178242\n",
        "198.422940263 -25.0666467129\n",
        "198.990203396 -20.0723429702\n",
        "199.431780052 -15.0653611056\n",
        "199.747391321 -10.048863636\n",
        "199.936837857 -5.02601908867\n"
       ]
      }
     ],
     "prompt_number": 17
    },
    {
     "cell_type": "code",
     "collapsed": false,
     "input": [
      "%pylab inline\n",
      "import numpy as np\n",
      "import matplotlib.pyplot as plt"
     ],
     "language": "python",
     "metadata": {},
     "outputs": [
      {
       "output_type": "stream",
       "stream": "stdout",
       "text": [
        "Populating the interactive namespace from numpy and matplotlib\n"
       ]
      }
     ],
     "prompt_number": 19
    },
    {
     "cell_type": "code",
     "collapsed": false,
     "input": [],
     "language": "python",
     "metadata": {},
     "outputs": [],
     "prompt_number": 20
    },
    {
     "cell_type": "code",
     "collapsed": false,
     "input": [
      "for i in range(20):\n",
      "    sim.doStep()\n",
      "xs = np.ndarray(shape=[sim.getNumAgents()], dtype=np.float32)\n",
      "ys = np.ndarray(shape=[sim.getNumAgents()], dtype=np.float32)\n",
      "cs=np.ndarray(shape=[sim.getNumAgents()], dtype=np.float32)\n",
      "for i in range(sim.getNumAgents()):\n",
      "    pos= sim.getAgentPosition(i)\n",
      "    x=pos.getX()\n",
      "    y=pos.getY()\n",
      "    xs[i]=x\n",
      "    ys[i]=y\n",
      "    cs[i]=i\n",
      "\n",
      "graph=plt.scatter(xs,ys,c=cs, linewidths=0)\n",
      "xlabel('x')\n",
      "ylabel('y')\n",
      "title('hybrid reciprocal velocity obstacle')"
     ],
     "language": "python",
     "metadata": {},
     "outputs": [
      {
       "metadata": {},
       "output_type": "pyout",
       "prompt_number": 83,
       "text": [
        "<matplotlib.text.Text at 0xaa1ac10>"
       ]
      },
      {
       "metadata": {},
       "output_type": "display_data",
       "png": "[encoded data removed]",
       "text": [
        "<matplotlib.figure.Figure at 0xa4d5190>"
       ]
      }
     ],
     "prompt_number": 83
    },
    {
     "cell_type": "markdown",
     "metadata": {},
     "source": [
      "works!"
     ]
    },
    {
     "cell_type": "code",
     "collapsed": false,
     "input": [],
     "language": "python",
     "metadata": {},
     "outputs": []
    }
   ],
   "metadata": {}
  }
 ]
}